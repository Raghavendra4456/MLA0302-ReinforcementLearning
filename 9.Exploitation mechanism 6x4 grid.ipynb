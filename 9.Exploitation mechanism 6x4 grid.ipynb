{
  "nbformat": 4,
  "nbformat_minor": 0,
  "metadata": {
    "colab": {
      "provenance": [],
      "authorship_tag": "ABX9TyOassqUf8DvlJA6FBNsUxtA",
      "include_colab_link": true
    },
    "kernelspec": {
      "name": "python3",
      "display_name": "Python 3"
    },
    "language_info": {
      "name": "python"
    }
  },
  "cells": [
    {
      "cell_type": "markdown",
      "metadata": {
        "id": "view-in-github",
        "colab_type": "text"
      },
      "source": [
        "<a href=\"https://colab.research.google.com/github/Raghavendra4456/MLA0302-ReinforcementLearning/blob/main/9.Exploitation%20mechanism%206x4%20grid.ipynb\" target=\"_parent\"><img src=\"https://colab.research.google.com/assets/colab-badge.svg\" alt=\"Open In Colab\"/></a>"
      ]
    },
    {
      "cell_type": "code",
      "execution_count": 2,
      "metadata": {
        "colab": {
          "base_uri": "https://localhost:8080/"
        },
        "id": "QgjNAYaEqbjk",
        "outputId": "9f69b974-1cb1-452c-92fe-766a1933ba65"
      },
      "outputs": [
        {
          "output_type": "stream",
          "name": "stdout",
          "text": [
            "[[0. 0. 0. 0.]\n",
            " [0. 0. 0. 0.]\n",
            " [0. 0. 0. 0.]\n",
            " [0. 0. 0. 0.]\n",
            " [0. 0. 0. 0.]\n",
            " [0. 0. 0. 0.]]\n"
          ]
        }
      ],
      "source": [
        "import numpy as np\n",
        "\n",
        "# Define the grid world\n",
        "n_rows, n_cols = 6, 4\n",
        "\n",
        "# Define actions (up, down, left, right)\n",
        "actions = [(0, 1), (0, -1), (1, 0), (-1, 0)]\n",
        "\n",
        "# Initialize the state values\n",
        "state_values = np.zeros((n_rows, n_cols))\n",
        "\n",
        "# Simulated reward function (example)\n",
        "rewards = np.zeros((n_rows, n_cols))\n",
        "rewards[5, 3] = 1  # Maximum Reward\n",
        "\n",
        "# Discount factor\n",
        "gamma = 0.9\n",
        "\n",
        "# Q-Learning: Update state values using exploitation\n",
        "num_iterations = 100\n",
        "\n",
        "for _ in range(num_iterations):\n",
        "    new_state_values = np.copy(state_values)\n",
        "    for i in range(n_rows):\n",
        "        for j in range(n_cols):\n",
        "            if rewards[i, j] != 0:\n",
        "                continue\n",
        "            q_values = []\n",
        "            for action in actions:\n",
        "                next_i, next_j = i + action[0], j + action[1]\n",
        "                if 0 <= next_i < n_rows and 0 <= next_j < n_cols:\n",
        "                    q_values.append(state_values[next_i, next_j])\n",
        "            if q_values:\n",
        "                new_state_values[i, j] = max(q_values) * gamma\n",
        "    state_values = new_state_values\n",
        "\n",
        "# Display the state values with exploitation\n",
        "print(state_values)\n"
      ]
    }
  ]
}