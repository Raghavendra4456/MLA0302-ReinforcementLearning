{
  "nbformat": 4,
  "nbformat_minor": 0,
  "metadata": {
    "colab": {
      "provenance": [],
      "authorship_tag": "ABX9TyOVu9YtArRSuY/ytByTb5fK",
      "include_colab_link": true
    },
    "kernelspec": {
      "name": "python3",
      "display_name": "Python 3"
    },
    "language_info": {
      "name": "python"
    }
  },
  "cells": [
    {
      "cell_type": "markdown",
      "metadata": {
        "id": "view-in-github",
        "colab_type": "text"
      },
      "source": [
        "<a href=\"https://colab.research.google.com/github/Raghavendra4456/MLA0302-ReinforcementLearning/blob/main/13.Max%20Reward%20through%20TD(0)%20Mechanism%20.ipynb\" target=\"_parent\"><img src=\"https://colab.research.google.com/assets/colab-badge.svg\" alt=\"Open In Colab\"/></a>"
      ]
    },
    {
      "cell_type": "code",
      "execution_count": 1,
      "metadata": {
        "colab": {
          "base_uri": "https://localhost:8080/"
        },
        "id": "ugPr_O5lQ47-",
        "outputId": "637f2e33-61d6-4a4c-a128-5339d6283c46"
      },
      "outputs": [
        {
          "output_type": "stream",
          "name": "stdout",
          "text": [
            "Optimal Policy:\n",
            "[0 0 2 0 4]\n"
          ]
        }
      ],
      "source": [
        "import numpy as np\n",
        "\n",
        "# Define the number of news articles and user states\n",
        "n_articles = 10\n",
        "n_states = 5\n",
        "\n",
        "# Initialize Q-values\n",
        "Q = np.zeros((n_states, n_articles))\n",
        "\n",
        "# Simulated reward function (example)\n",
        "rewards = np.random.rand(n_states, n_articles)\n",
        "\n",
        "# Define the TD(0) parameters\n",
        "alpha = 0.1  # Learning rate\n",
        "gamma = 0.9  # Discount factor\n",
        "\n",
        "# Simulate user interactions\n",
        "num_episodes = 1000\n",
        "for _ in range(num_episodes):\n",
        "    state = np.random.randint(n_states)  # Random initial state\n",
        "\n",
        "    while True:\n",
        "        # Exploitation or exploration with epsilon-greedy\n",
        "        if np.random.rand() < 0.1:\n",
        "            action = np.random.randint(n_articles)  # Exploration: Choose a random action\n",
        "        else:\n",
        "            action = np.argmax(Q[state, :])  # Exploitation: Select the action with the highest Q-value\n",
        "\n",
        "        next_state = np.random.randint(n_states)  # Simulate user moving to a new state\n",
        "        reward = rewards[state, action]\n",
        "\n",
        "        # Update Q-value using TD(0) update rule\n",
        "        Q[state, action] += alpha * (reward + gamma * np.max(Q[next_state, :]) - Q[state, action])\n",
        "\n",
        "        state = next_state\n",
        "\n",
        "        if np.random.rand() < 0.1:  # Simulate the end of an episode with 10% probability\n",
        "            break\n",
        "\n",
        "# Determine the optimal policy\n",
        "optimal_policy = np.argmax(Q, axis=1)\n",
        "\n",
        "# Print the optimal policy\n",
        "print(\"Optimal Policy:\")\n",
        "print(optimal_policy)\n"
      ]
    }
  ]
}