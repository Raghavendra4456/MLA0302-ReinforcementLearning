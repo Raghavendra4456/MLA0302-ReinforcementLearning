{
  "nbformat": 4,
  "nbformat_minor": 0,
  "metadata": {
    "colab": {
      "provenance": [],
      "authorship_tag": "ABX9TyPAG4P5SEJRxxsm7yH/X7xX",
      "include_colab_link": true
    },
    "kernelspec": {
      "name": "python3",
      "display_name": "Python 3"
    },
    "language_info": {
      "name": "python"
    }
  },
  "cells": [
    {
      "cell_type": "markdown",
      "metadata": {
        "id": "view-in-github",
        "colab_type": "text"
      },
      "source": [
        "<a href=\"https://colab.research.google.com/github/Raghavendra4456/MLA0302-ReinforcementLearning/blob/main/8.Exploration%20mechanism%206x4%20grid.ipynb\" target=\"_parent\"><img src=\"https://colab.research.google.com/assets/colab-badge.svg\" alt=\"Open In Colab\"/></a>"
      ]
    },
    {
      "cell_type": "code",
      "execution_count": 1,
      "metadata": {
        "colab": {
          "base_uri": "https://localhost:8080/"
        },
        "id": "HXC2ANMrp7ja",
        "outputId": "1ad5d4d9-b802-4f60-eb54-e6ed5dc570d7"
      },
      "outputs": [
        {
          "output_type": "stream",
          "name": "stdout",
          "text": [
            "State Values with Exploration:\n",
            "[[1.88538924e+00 2.15174833e+00 2.41577455e+00 2.81366906e+00]\n",
            " [1.69008417e+00 2.20874213e+00 2.70243991e+00 3.17698222e+00]\n",
            " [5.77710590e-05 7.86517604e-01 2.96716885e+00 3.50023782e+00]\n",
            " [0.00000000e+00 9.44727865e-01 3.34908096e+00 3.97040685e+00]\n",
            " [1.17503967e-01 2.15920584e+00 3.89453966e+00 4.64908092e+00]\n",
            " [0.00000000e+00 3.33724978e+00 4.31023717e+00 4.09642226e+00]]\n"
          ]
        }
      ],
      "source": [
        "import numpy as np\n",
        "import random\n",
        "\n",
        "# Define the grid world\n",
        "n_rows, n_cols = 6, 4\n",
        "\n",
        "# Define actions (up, down, left, right)\n",
        "actions = [(0, 1), (0, -1), (1, 0), (-1, 0)]\n",
        "\n",
        "# Define exploration probability (ε)\n",
        "epsilon = 0.2\n",
        "\n",
        "# Initialize the state values\n",
        "state_values = np.zeros((n_rows, n_cols))\n",
        "\n",
        "# Function to check if a state is within the grid boundaries\n",
        "def within_bounds(state):\n",
        "    row, col = state\n",
        "    return 0 <= row < n_rows and 0 <= col < n_cols\n",
        "\n",
        "# Function to choose an action using ε-greedy strategy\n",
        "def choose_action(state):\n",
        "    if random.uniform(0, 1) < epsilon:\n",
        "        # Exploration: Choose a random action\n",
        "        return random.choice(range(len(actions)))\n",
        "    else:\n",
        "        valid_actions = []\n",
        "        for a in actions:\n",
        "            next_state = (state[0] + a[0], state[1] + a[1])\n",
        "            if within_bounds(next_state):\n",
        "                valid_actions.append(state_values[next_state])\n",
        "            else:\n",
        "                valid_actions.append(float('-inf'))  # Assign negative infinity to invalid actions\n",
        "        return np.argmax(valid_actions)\n",
        "\n",
        "# Learning loop (Q-learning with temporal difference)\n",
        "num_episodes = 1000\n",
        "\n",
        "for _ in range(num_episodes):\n",
        "    current_state = (0, 0)\n",
        "\n",
        "    while True:\n",
        "        action = choose_action(current_state)\n",
        "        move = actions[action]\n",
        "        next_state = (current_state[0] + move[0], current_state[1] + move[1])\n",
        "\n",
        "        # Simulated reward function (example)\n",
        "        if next_state == (5, 3):\n",
        "            reward = 1\n",
        "        else:\n",
        "            reward = 0\n",
        "\n",
        "        if within_bounds(next_state):\n",
        "            # Update the state value using Q-learning (temporal difference)\n",
        "            state_values[current_state] += 0.1 * (\n",
        "                reward + 0.9 * state_values[next_state] - state_values[current_state]\n",
        "            )\n",
        "\n",
        "            current_state = next_state\n",
        "        else:\n",
        "            break  # Break the loop if the next state is out of bounds\n",
        "\n",
        "# Display the state values with exploration\n",
        "print(\"State Values with Exploration:\")\n",
        "print(state_values)\n",
        "\n"
      ]
    }
  ]
}