{
  "nbformat": 4,
  "nbformat_minor": 0,
  "metadata": {
    "colab": {
      "provenance": [],
      "authorship_tag": "ABX9TyNIjpTjNyY5VQTSYdeFmbvA",
      "include_colab_link": true
    },
    "kernelspec": {
      "name": "python3",
      "display_name": "Python 3"
    },
    "language_info": {
      "name": "python"
    }
  },
  "cells": [
    {
      "cell_type": "markdown",
      "metadata": {
        "id": "view-in-github",
        "colab_type": "text"
      },
      "source": [
        "<a href=\"https://colab.research.google.com/github/Raghavendra4456/MLA0302-ReinforcementLearning/blob/main/3.Functions%20behind%20state%20%26%20policies%20in%20RL%20.ipynb\" target=\"_parent\"><img src=\"https://colab.research.google.com/assets/colab-badge.svg\" alt=\"Open In Colab\"/></a>"
      ]
    },
    {
      "cell_type": "code",
      "execution_count": 1,
      "metadata": {
        "colab": {
          "base_uri": "https://localhost:8080/"
        },
        "id": "bN9O4girmAry",
        "outputId": "aa9c38b6-be65-4395-8b9a-47ac7f67bf99"
      },
      "outputs": [
        {
          "output_type": "stream",
          "name": "stdout",
          "text": [
            "Current State: (0, 0), Action: Right, Next State: (0, 1)\n",
            "Current State: (0, 1), Action: Down, Next State: (1, 1)\n",
            "Current State: (1, 1), Action: Up, Next State: (0, 1)\n"
          ]
        }
      ],
      "source": [
        "# Define states and actions\n",
        "states = [(0, 0), (0, 1), (1, 0), (1, 1)]\n",
        "actions = {'Up': (-1, 0), 'Down': (1, 0), 'Left': (0, -1), 'Right': (0, 1)}\n",
        "\n",
        "# Define a deterministic policy (for each state, specify the action to take)\n",
        "policy = {\n",
        "    (0, 0): 'Right',\n",
        "    (0, 1): 'Down',\n",
        "    (1, 0): 'Right',\n",
        "    (1, 1): 'Up'\n",
        "}\n",
        "\n",
        "# Function to get the next state based on the current state and action\n",
        "def get_next_state(state, action):\n",
        "    next_state = (state[0] + actions[action][0], state[1] + actions[action][1])\n",
        "    if next_state in states:\n",
        "        return next_state\n",
        "    return state\n",
        "\n",
        "# Function to determine the action the agent takes in a given state\n",
        "def get_action(state):\n",
        "    return policy[state]\n",
        "\n",
        "# Demonstrate how the functions work\n",
        "current_state = (0, 0)\n",
        "for _ in range(3):\n",
        "    action = get_action(current_state)\n",
        "    next_state = get_next_state(current_state, action)\n",
        "    print(f\"Current State: {current_state}, Action: {action}, Next State: {next_state}\")\n",
        "    current_state = next_state\n",
        "\n"
      ]
    }
  ]
}