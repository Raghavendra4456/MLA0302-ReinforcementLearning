{
  "nbformat": 4,
  "nbformat_minor": 0,
  "metadata": {
    "colab": {
      "provenance": [],
      "authorship_tag": "ABX9TyNWM1C0rqJ3YFchOoz9s5RD",
      "include_colab_link": true
    },
    "kernelspec": {
      "name": "python3",
      "display_name": "Python 3"
    },
    "language_info": {
      "name": "python"
    }
  },
  "cells": [
    {
      "cell_type": "markdown",
      "metadata": {
        "id": "view-in-github",
        "colab_type": "text"
      },
      "source": [
        "<a href=\"https://colab.research.google.com/github/Raghavendra4456/MLA0302-ReinforcementLearning/blob/main/6.Calculation%20of%20Max%20Reward%20using%20RL.ipynb\" target=\"_parent\"><img src=\"https://colab.research.google.com/assets/colab-badge.svg\" alt=\"Open In Colab\"/></a>"
      ]
    },
    {
      "cell_type": "code",
      "execution_count": 1,
      "metadata": {
        "colab": {
          "base_uri": "https://localhost:8080/"
        },
        "id": "z-6haT1Hog5d",
        "outputId": "c9812376-d513-46aa-dfb0-c1154c4e4749"
      },
      "outputs": [
        {
          "output_type": "stream",
          "name": "stdout",
          "text": [
            "Optimal Policy:\n",
            "Right | Right | Right | Right | Right\n",
            "Right | Right | Right | Reward | Reward\n"
          ]
        }
      ],
      "source": [
        "import numpy as np\n",
        "\n",
        "# Define the grid world\n",
        "n_rows, n_cols = 2, 5\n",
        "grid_world = np.zeros((n_rows, n_cols))\n",
        "\n",
        "# Define rewards\n",
        "rewards = {\n",
        "    (1, 4): 1,   # Maximum Reward\n",
        "    (2, 4): 1,   # Maximum Reward\n",
        "    (1, 3): -1,  # Fire state\n",
        "    (2, 3): -1,  # Fire state\n",
        "}\n",
        "\n",
        "# Define discount factor\n",
        "gamma = 0.9\n",
        "\n",
        "# Define actions (up, down, left, right)\n",
        "actions = [(0, 1), (0, -1), (1, 0), (-1, 0)]\n",
        "action_names = ['Right', 'Left', 'Down', 'Up']\n",
        "\n",
        "# Function to calculate the Bellman update for a state\n",
        "def bellman_update(i, j, action):\n",
        "    if (i, j) in rewards:\n",
        "        return rewards[(i, j)]\n",
        "\n",
        "    total_reward = 0\n",
        "    for a, (di, dj) in enumerate(actions):\n",
        "        next_i, next_j = i + di, j + dj\n",
        "        if 0 <= next_i < n_rows and 0 <= next_j < n_cols:\n",
        "            total_reward += 0.25 * (grid_world[next_i, next_j] * gamma)\n",
        "\n",
        "    return total_reward\n",
        "\n",
        "# Perform the Bellman update for state values\n",
        "num_iterations = 100\n",
        "for _ in range(num_iterations):\n",
        "    new_grid_world = np.zeros((n_rows, n_cols))\n",
        "    for i in range(n_rows):\n",
        "        for j in range(n_cols):\n",
        "            new_grid_world[i, j] = max([bellman_update(i, j, a) for a in actions])\n",
        "\n",
        "    grid_world = new_grid_world\n",
        "\n",
        "# Calculate the optimal policy\n",
        "optimal_policy = np.empty((n_rows, n_cols), dtype=object)\n",
        "for i in range(n_rows):\n",
        "    for j in range(n_cols):\n",
        "        if (i, j) not in rewards:\n",
        "            optimal_policy[i, j] = action_names[np.argmax([bellman_update(i, j, a) for a in actions])]\n",
        "        else:\n",
        "            optimal_policy[i, j] = None  # Set None for cells with rewards\n",
        "\n",
        "# Replace None with a placeholder string\n",
        "optimal_policy = np.where(optimal_policy != None, optimal_policy.astype(str), 'Reward')\n",
        "\n",
        "# Print the optimal policy\n",
        "print(\"Optimal Policy:\")\n",
        "for row in optimal_policy:\n",
        "    print(\" | \".join(row))\n"
      ]
    }
  ]
}